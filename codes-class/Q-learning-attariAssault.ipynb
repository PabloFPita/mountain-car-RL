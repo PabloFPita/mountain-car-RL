{
 "cells": [
  {
   "cell_type": "code",
   "execution_count": 43,
   "metadata": {},
   "outputs": [],
   "source": [
    "import numpy as np\n",
    "# import gym\n",
    "import gymnasium as gym\n",
    "from matplotlib import pyplot as plt"
   ]
  },
  {
   "cell_type": "code",
   "execution_count": 14,
   "metadata": {},
   "outputs": [],
   "source": [
    "env = gym.make(\"ALE/Assault-v5\",  render_mode=\"human\", full_action_space=False)"
   ]
  },
  {
   "cell_type": "code",
   "execution_count": 15,
   "metadata": {},
   "outputs": [
    {
     "name": "stdout",
     "output_type": "stream",
     "text": [
      "Action Space Discrete(7)\n",
      "State Space Box(0, 255, (210, 160, 3), uint8).\n"
     ]
    }
   ],
   "source": [
    "# env.metadata['render_fps'] = 30  \n",
    "\n",
    "env.reset() # reset the environment to a new random state\n",
    "\n",
    "\n",
    "print(\"Action Space {}\". format(env.action_space))\n",
    "print(\"State Space {}.\". format(env.observation_space))\n",
    "\n",
    "# We have 210 pixels in height and 160 pixels in width, and 3 color channels"
   ]
  },
  {
   "cell_type": "code",
   "execution_count": 16,
   "metadata": {},
   "outputs": [
    {
     "name": "stdout",
     "output_type": "stream",
     "text": [
      "Meaning of actions are:  ['NOOP', 'FIRE', 'UP', 'RIGHT', 'LEFT', 'RIGHTFIRE', 'LEFTFIRE']\n"
     ]
    }
   ],
   "source": [
    "# We have 7 different actions to choose from\n",
    "meaning = env.unwrapped.get_action_meanings()\n",
    "print(\"Meaning of actions are: \", meaning)"
   ]
  },
  {
   "cell_type": "code",
   "execution_count": 41,
   "metadata": {},
   "outputs": [],
   "source": [
    "obs, reward, done, truncated, info = env.step(4) # take a random action"
   ]
  },
  {
   "cell_type": "code",
   "execution_count": null,
   "metadata": {},
   "outputs": [],
   "source": [
    "obs"
   ]
  },
  {
   "cell_type": "code",
   "execution_count": 44,
   "metadata": {},
   "outputs": [
    {
     "data": {
      "text/plain": [
       "<matplotlib.image.AxesImage at 0x1cb496c0850>"
      ]
     },
     "execution_count": 44,
     "metadata": {},
     "output_type": "execute_result"
    },
    {
     "data": {
      "image/png": "[encoded data removed]",
      "text/plain": [
       "<Figure size 640x480 with 1 Axes>"
      ]
     },
     "metadata": {},
     "output_type": "display_data"
    }
   ],
   "source": [
    "plt.figure()\n",
    "plt.imshow(obs)"
   ]
  },
  {
   "cell_type": "code",
   "execution_count": 46,
   "metadata": {},
   "outputs": [
    {
     "data": {
      "text/plain": [
       "{'lives': 4, 'episode_frame_number': 100, 'frame_number': 100}"
      ]
     },
     "execution_count": 46,
     "metadata": {},
     "output_type": "execute_result"
    }
   ],
   "source": [
    "info"
   ]
  },
  {
   "cell_type": "code",
   "execution_count": 47,
   "metadata": {},
   "outputs": [
    {
     "ename": "",
     "evalue": "",
     "output_type": "error",
     "traceback": [
      "\u001b[1;31mThe Kernel crashed while executing code in the current cell or a previous cell. \n",
      "\u001b[1;31mPlease review the code in the cell(s) to identify a possible cause of the failure. \n",
      "\u001b[1;31mClick <a href='https://aka.ms/vscodeJupyterKernelCrash'>here</a> for more info. \n",
      "\u001b[1;31mView Jupyter <a href='command:jupyter.viewOutput'>log</a> for further details."
     ]
    }
   ],
   "source": [
    "total_reward = 0\n",
    "while True:\n",
    "    obs, reward, done, truncated, info = env.step(env.action_space.sample())\n",
    "    total_reward += reward\n",
    "    if done:\n",
    "        break\n",
    "print(\"Total reward is {}\".format(total_reward))"
   ]
  },
  {
   "cell_type": "code",
   "execution_count": 19,
   "metadata": {},
   "outputs": [
    {
     "data": {
      "text/plain": [
       "(10, 10, 10, 7)"
      ]
     },
     "execution_count": 19,
     "metadata": {},
     "output_type": "execute_result"
    }
   ],
   "source": [
    "# Define parameters for discretization\n",
    "n_bins = 10  # Number of bins for each dimension\n",
    "n_actions = env.action_space.n\n",
    "\n",
    "# Discretize the observation space\n",
    "obs_shape = (n_bins, n_bins, n_bins)\n",
    "q_table_shape = obs_shape + (n_actions,)\n",
    "q_table = np.zeros(q_table_shape)\n",
    "q_table.shape"
   ]
  },
  {
   "cell_type": "code",
   "execution_count": 11,
   "metadata": {},
   "outputs": [],
   "source": [
    "from numpy import resize\n",
    "from skimage.color import rgb2gray\n",
    "\n",
    "# Define function to preprocess observation\n",
    "def preprocess_observation(observation):\n",
    "    # Convert observation to grayscale\n",
    "    gray_observation = rgb2gray(observation)\n",
    "    # Resize observation\n",
    "    resized_observation = resize(gray_observation, (84, 84), anti_aliasing=True)\n",
    "    # Scale values to range [0, 255]\n",
    "    scaled_observation = resized_observation * 255\n",
    "    # Discretize observation\n",
    "    discretized_observation = np.round(scaled_observation / (255 / (n_bins - 1)))\n",
    "    return discretized_observation.astype(np.uint8)"
   ]
  }
 ],
 "metadata": {
  "kernelspec": {
   "display_name": "ML2-GA",
   "language": "python",
   "name": "python3"
  },
  "language_info": {
   "codemirror_mode": {
    "name": "ipython",
    "version": 3
   },
   "file_extension": ".py",
   "mimetype": "text/x-python",
   "name": "python",
   "nbconvert_exporter": "python",
   "pygments_lexer": "ipython3",
   "version": "3.11.9"
  }
 },
 "nbformat": 4,
 "nbformat_minor": 2
}
